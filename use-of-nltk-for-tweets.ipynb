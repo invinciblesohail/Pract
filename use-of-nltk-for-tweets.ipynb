{
 "cells": [
  {
   "cell_type": "code",
   "execution_count": 1,
   "id": "358c9af8",
   "metadata": {
    "_cell_guid": "b1076dfc-b9ad-4769-8c92-a6c4dae69d19",
    "_uuid": "8f2839f25d086af736a60e9eeb907d3b93b6e0e5",
    "execution": {
     "iopub.execute_input": "2022-12-26T11:39:53.269499Z",
     "iopub.status.busy": "2022-12-26T11:39:53.268814Z",
     "iopub.status.idle": "2022-12-26T11:39:55.054264Z",
     "shell.execute_reply": "2022-12-26T11:39:55.053395Z"
    },
    "papermill": {
     "duration": 1.794854,
     "end_time": "2022-12-26T11:39:55.057043",
     "exception": false,
     "start_time": "2022-12-26T11:39:53.262189",
     "status": "completed"
    },
    "tags": []
   },
   "outputs": [],
   "source": [
    "import numpy as np # linear algebra\n",
    "import pandas as pd # data processing, CSV file I/O (e.g. pd.read_csv)\n",
    "from nltk.tokenize import sent_tokenize, word_tokenize"
   ]
  },
  {
   "cell_type": "code",
   "execution_count": 2,
   "id": "24f18960",
   "metadata": {
    "execution": {
     "iopub.execute_input": "2022-12-26T11:39:55.064136Z",
     "iopub.status.busy": "2022-12-26T11:39:55.063473Z",
     "iopub.status.idle": "2022-12-26T11:39:55.069108Z",
     "shell.execute_reply": "2022-12-26T11:39:55.068011Z"
    },
    "papermill": {
     "duration": 0.011989,
     "end_time": "2022-12-26T11:39:55.071690",
     "exception": false,
     "start_time": "2022-12-26T11:39:55.059701",
     "status": "completed"
    },
    "tags": []
   },
   "outputs": [],
   "source": [
    "paragraph_1 = \"Sohail learned rapidly beacuse his first training was in how to learn. And the first lesson of all was the basic trust that he could learn. It's shocking to find how many people do not believe they can learn, and how many more believe learning to be difficult.\""
   ]
  },
  {
   "cell_type": "code",
   "execution_count": 3,
   "id": "0ac6ec0f",
   "metadata": {
    "execution": {
     "iopub.execute_input": "2022-12-26T11:39:55.078101Z",
     "iopub.status.busy": "2022-12-26T11:39:55.077701Z",
     "iopub.status.idle": "2022-12-26T11:39:55.083103Z",
     "shell.execute_reply": "2022-12-26T11:39:55.082047Z"
    },
    "papermill": {
     "duration": 0.012134,
     "end_time": "2022-12-26T11:39:55.086112",
     "exception": false,
     "start_time": "2022-12-26T11:39:55.073978",
     "status": "completed"
    },
    "tags": []
   },
   "outputs": [
    {
     "name": "stdout",
     "output_type": "stream",
     "text": [
      "Sohail learned rapidly beacuse his first training was in how to learn. And the first lesson of all was the basic trust that he could learn. It's shocking to find how many people do not believe they can learn, and how many more believe learning to be difficult.\n"
     ]
    }
   ],
   "source": [
    "print(paragraph_1)"
   ]
  },
  {
   "cell_type": "code",
   "execution_count": 4,
   "id": "428ed0e4",
   "metadata": {
    "execution": {
     "iopub.execute_input": "2022-12-26T11:39:55.093462Z",
     "iopub.status.busy": "2022-12-26T11:39:55.093089Z",
     "iopub.status.idle": "2022-12-26T11:39:55.120321Z",
     "shell.execute_reply": "2022-12-26T11:39:55.119113Z"
    },
    "papermill": {
     "duration": 0.033199,
     "end_time": "2022-12-26T11:39:55.122750",
     "exception": false,
     "start_time": "2022-12-26T11:39:55.089551",
     "status": "completed"
    },
    "tags": []
   },
   "outputs": [
    {
     "data": {
      "text/plain": [
       "['Sohail',\n",
       " 'learned',\n",
       " 'rapidly',\n",
       " 'beacuse',\n",
       " 'his',\n",
       " 'first',\n",
       " 'training',\n",
       " 'was',\n",
       " 'in',\n",
       " 'how',\n",
       " 'to',\n",
       " 'learn',\n",
       " '.',\n",
       " 'And',\n",
       " 'the',\n",
       " 'first',\n",
       " 'lesson',\n",
       " 'of',\n",
       " 'all',\n",
       " 'was',\n",
       " 'the',\n",
       " 'basic',\n",
       " 'trust',\n",
       " 'that',\n",
       " 'he',\n",
       " 'could',\n",
       " 'learn',\n",
       " '.',\n",
       " 'It',\n",
       " \"'s\",\n",
       " 'shocking',\n",
       " 'to',\n",
       " 'find',\n",
       " 'how',\n",
       " 'many',\n",
       " 'people',\n",
       " 'do',\n",
       " 'not',\n",
       " 'believe',\n",
       " 'they',\n",
       " 'can',\n",
       " 'learn',\n",
       " ',',\n",
       " 'and',\n",
       " 'how',\n",
       " 'many',\n",
       " 'more',\n",
       " 'believe',\n",
       " 'learning',\n",
       " 'to',\n",
       " 'be',\n",
       " 'difficult',\n",
       " '.']"
      ]
     },
     "execution_count": 4,
     "metadata": {},
     "output_type": "execute_result"
    }
   ],
   "source": [
    "word_tokenize(paragraph_1)"
   ]
  },
  {
   "cell_type": "code",
   "execution_count": 5,
   "id": "cc0fde68",
   "metadata": {
    "execution": {
     "iopub.execute_input": "2022-12-26T11:39:55.130044Z",
     "iopub.status.busy": "2022-12-26T11:39:55.128945Z",
     "iopub.status.idle": "2022-12-26T11:39:55.137193Z",
     "shell.execute_reply": "2022-12-26T11:39:55.136075Z"
    },
    "papermill": {
     "duration": 0.014241,
     "end_time": "2022-12-26T11:39:55.139548",
     "exception": false,
     "start_time": "2022-12-26T11:39:55.125307",
     "status": "completed"
    },
    "tags": []
   },
   "outputs": [
    {
     "data": {
      "text/plain": [
       "['Sohail learned rapidly beacuse his first training was in how to learn.',\n",
       " 'And the first lesson of all was the basic trust that he could learn.',\n",
       " \"It's shocking to find how many people do not believe they can learn, and how many more believe learning to be difficult.\"]"
      ]
     },
     "execution_count": 5,
     "metadata": {},
     "output_type": "execute_result"
    }
   ],
   "source": [
    "sent_tokenize(paragraph_1)"
   ]
  }
 ],
 "metadata": {
  "kernelspec": {
   "display_name": "Python 3",
   "language": "python",
   "name": "python3"
  },
  "language_info": {
   "codemirror_mode": {
    "name": "ipython",
    "version": 3
   },
   "file_extension": ".py",
   "mimetype": "text/x-python",
   "name": "python",
   "nbconvert_exporter": "python",
   "pygments_lexer": "ipython3",
   "version": "3.7.12"
  },
  "papermill": {
   "default_parameters": {},
   "duration": 11.638697,
   "end_time": "2022-12-26T11:39:55.965474",
   "environment_variables": {},
   "exception": null,
   "input_path": "__notebook__.ipynb",
   "output_path": "__notebook__.ipynb",
   "parameters": {},
   "start_time": "2022-12-26T11:39:44.326777",
   "version": "2.3.4"
  }
 },
 "nbformat": 4,
 "nbformat_minor": 5
}
